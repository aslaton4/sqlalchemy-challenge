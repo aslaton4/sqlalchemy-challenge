{
 "cells": [
  {
   "cell_type": "code",
   "execution_count": 27,
   "id": "58b99ab6-28df-4b00-8e3c-a16db13baac1",
   "metadata": {},
   "outputs": [],
   "source": [
    "# Import necessary libraries\n",
    "from flask import Flask, jsonify\n",
    "import pandas as pd\n",
    "import sqlite3"
   ]
  },
  {
   "cell_type": "code",
   "execution_count": 28,
   "id": "746d0842-0fd2-465c-8a60-e04284abb087",
   "metadata": {},
   "outputs": [],
   "source": [
    "# Set up Flask app\n",
    "app = Flask(__name__)"
   ]
  },
  {
   "cell_type": "code",
   "execution_count": 35,
   "id": "7086d34e-eef1-4b79-bc5d-88da4849a4ba",
   "metadata": {
    "editable": true,
    "slideshow": {
     "slide_type": ""
    },
    "tags": []
   },
   "outputs": [],
   "source": [
    "# Database path\n",
    "sqlite_file = './Resources/hawaii.sqlite'"
   ]
  },
  {
   "cell_type": "code",
   "execution_count": 36,
   "id": "eaa829d0-d64d-4b62-9c08-925aa46ff1a0",
   "metadata": {},
   "outputs": [],
   "source": [
    "# Connect to the database\n",
    "conn = sqlite3.connect(sqlite_file)\n",
    "cursor = conn.cursor()"
   ]
  },
  {
   "cell_type": "code",
   "execution_count": 37,
   "id": "c6111a1f-3c51-41b0-93e9-da7fb6939a13",
   "metadata": {},
   "outputs": [
    {
     "name": "stdout",
     "output_type": "stream",
     "text": [
      "Tables in the database: [('measurement',), ('station',)]\n"
     ]
    }
   ],
   "source": [
    "# Query all table names\n",
    "cursor.execute(\"SELECT name FROM sqlite_master WHERE type='table';\")\n",
    "tables = cursor.fetchall()\n",
    "\n",
    "print(\"Tables in the database:\", tables)"
   ]
  },
  {
   "cell_type": "code",
   "execution_count": 39,
   "id": "5c2fbe47-601b-4daf-8b7c-d011d15bddc1",
   "metadata": {},
   "outputs": [],
   "source": [
    "# Function to retrieve data from the database\n",
    "def get_data():\n",
    "    conn = sqlite3.connect(sqlite_file)\n",
    "\n",
    "    # Precipitation data: Last 12 months\n",
    "    latest_date_query = \"SELECT MAX(date) FROM measurement;\"\n",
    "    latest_date = pd.read_sql(latest_date_query, conn).iloc[0, 0]\n",
    "    one_year_ago = pd.to_datetime(latest_date) - pd.DateOffset(years=1)\n",
    "    one_year_ago_str = one_year_ago.strftime('%Y-%m-%d')\n",
    "\n",
    "    precipitation_query = f\"\"\"\n",
    "    SELECT date, prcp\n",
    "    FROM measurement\n",
    "    WHERE date >= '{one_year_ago_str}';\n",
    "    \"\"\"\n",
    "    precipitation_data = pd.read_sql(precipitation_query, conn)\n",
    "    precipitation_dict = precipitation_data.set_index(\"date\")[\"prcp\"].to_dict()\n",
    "\n",
    "    # Stations data\n",
    "    stations_query = \"SELECT station, name FROM station;\"\n",
    "    stations_data = pd.read_sql(stations_query, conn)\n",
    "    stations_list = stations_data.to_dict(orient=\"records\")\n",
    "\n",
    "    # Most active station\n",
    "    most_active_station_query = \"\"\"\n",
    "    SELECT station, COUNT(station) AS count\n",
    "    FROM measurement\n",
    "    GROUP BY station\n",
    "    ORDER BY count DESC\n",
    "    LIMIT 1;\n",
    "    \"\"\"\n",
    "    most_active_station = pd.read_sql(most_active_station_query, conn).iloc[0, 0]\n",
    "\n",
    "    # TOBS data: Last 12 months for the most active station\n",
    "    tobs_query = f\"\"\"\n",
    "    SELECT date, tobs\n",
    "    FROM measurement\n",
    "    WHERE station = '{most_active_station}' AND date >= '{one_year_ago_str}';\n",
    "    \"\"\"\n",
    "    tobs_data = pd.read_sql(tobs_query, conn)\n",
    "    tobs_list = tobs_data[\"tobs\"].tolist()\n",
    "\n",
    "    conn.close()\n",
    "\n",
    "    return precipitation_dict, stations_list, tobs_list, most_active_station"
   ]
  },
  {
   "cell_type": "code",
   "execution_count": 40,
   "id": "8b576303-fa52-4b08-aa0a-fa0948908a8b",
   "metadata": {},
   "outputs": [],
   "source": [
    "# Load the data for the Flask app\n",
    "precipitation_dict, stations_list, tobs_list, most_active_station = get_data()"
   ]
  },
  {
   "cell_type": "code",
   "execution_count": 41,
   "id": "84392fea-ecb8-46b6-b470-0ee85d6c3d31",
   "metadata": {
    "editable": true,
    "slideshow": {
     "slide_type": ""
    },
    "tags": []
   },
   "outputs": [],
   "source": [
    "# Flask Routes\n",
    "@app.route(\"/\")\n",
    "def home():\n",
    "    \"\"\"List all available routes.\"\"\"\n",
    "    return (\n",
    "        f\"Welcome to the Climate API!<br/>\"\n",
    "        f\"Available Routes:<br/>\"\n",
    "        f\"/api/v1.0/precipitation<br/>\"\n",
    "        f\"/api/v1.0/stations<br/>\"\n",
    "        f\"/api/v1.0/tobs<br/>\"\n",
    "        f\"/api/v1.0/&lt;start&gt;<br/>\"\n",
    "        f\"/api/v1.0/&lt;start&gt;/&lt;end&gt;\"\n",
    "    )\n",
    "\n",
    "@app.route(\"/api/v1.0/precipitation\")\n",
    "def precipitation():\n",
    "    \"\"\"Return JSON representation of precipitation data for the last 12 months.\"\"\"\n",
    "    return jsonify(precipitation_dict)\n",
    "\n",
    "@app.route(\"/api/v1.0/stations\")\n",
    "def stations():\n",
    "    \"\"\"Return JSON list of stations.\"\"\"\n",
    "    return jsonify(stations_list)\n",
    "\n",
    "@app.route(\"/api/v1.0/tobs\")\n",
    "def tobs():\n",
    "    \"\"\"Return JSON list of temperature observations for the most active station.\"\"\"\n",
    "    return jsonify(tobs_list)\n",
    "\n",
    "@app.route(\"/api/v1.0/<start>\")\n",
    "@app.route(\"/api/v1.0/<start>/<end>\")\n",
    "def temperature_summary(start, end=None):\n",
    "    \"\"\"Return JSON list of TMIN, TAVG, and TMAX for a given date range.\"\"\"\n",
    "    conn = sqlite3.connect(sqlite_file)\n",
    "\n",
    "    if end:\n",
    "        query = f\"\"\"\n",
    "        SELECT MIN(tobs) as TMIN, AVG(tobs) as TAVG, MAX(tobs) as TMAX\n",
    "        FROM measurement\n",
    "        WHERE date BETWEEN '{start}' AND '{end}';\n",
    "        \"\"\"\n",
    "    else:\n",
    "        query = f\"\"\"\n",
    "        SELECT MIN(tobs) as TMIN, AVG(tobs) as TAVG, MAX(tobs) as TMAX\n",
    "        FROM measurement\n",
    "        WHERE date >= '{start}';\n",
    "        \"\"\"\n",
    "    \n",
    "    result = pd.read_sql(query, conn)\n",
    "    conn.close()\n",
    "\n",
    "    summary = {\n",
    "        \"TMIN\": result[\"TMIN\"].iloc[0],\n",
    "        \"TAVG\": result[\"TAVG\"].iloc[0],\n",
    "        \"TMAX\": result[\"TMAX\"].iloc[0]\n",
    "    }\n",
    "    return jsonify(summary)\n"
   ]
  },
  {
   "cell_type": "code",
   "execution_count": 42,
   "id": "c5725266-845a-476f-a7b0-d703c827bb51",
   "metadata": {},
   "outputs": [],
   "source": [
    "# Run the Flask app in Jupyter\n",
    "from werkzeug.serving import run_simple\n",
    "import threading\n",
    "\n",
    "def run_app():\n",
    "    run_simple('localhost', 5000, app)"
   ]
  },
  {
   "cell_type": "code",
   "execution_count": 43,
   "id": "487aca08-53ab-413d-a18e-67cf8c5a9cbe",
   "metadata": {},
   "outputs": [
    {
     "name": "stderr",
     "output_type": "stream",
     "text": [
      "WARNING: This is a development server. Do not use it in a production deployment. Use a production WSGI server instead.\n",
      " * Running on http://localhost:5000\n",
      "Press CTRL+C to quit\n"
     ]
    }
   ],
   "source": [
    "# Run the app in a separate thread\n",
    "thread = threading.Thread(target=run_app)\n",
    "thread.start()"
   ]
  },
  {
   "cell_type": "code",
   "execution_count": null,
   "id": "74faaa0d-8748-46b0-834a-e5a70fe9e892",
   "metadata": {},
   "outputs": [],
   "source": []
  }
 ],
 "metadata": {
  "kernelspec": {
   "display_name": "Python 3 (ipykernel)",
   "language": "python",
   "name": "python3"
  },
  "language_info": {
   "codemirror_mode": {
    "name": "ipython",
    "version": 3
   },
   "file_extension": ".py",
   "mimetype": "text/x-python",
   "name": "python",
   "nbconvert_exporter": "python",
   "pygments_lexer": "ipython3",
   "version": "3.10.14"
  }
 },
 "nbformat": 4,
 "nbformat_minor": 5
}
